{
 "cells": [
  {
   "cell_type": "code",
   "execution_count": 50,
   "metadata": {},
   "outputs": [],
   "source": [
    "from dotenv import load_dotenv\n",
    "load_dotenv()\n",
    "import os\n",
    "from openai import OpenAI\n",
    "from pinecone import Pinecone, ServerlessSpec"
   ]
  },
  {
   "cell_type": "code",
   "execution_count": 51,
   "metadata": {},
   "outputs": [],
   "source": [
    "pc = Pinecone(api_key=os.getenv(\"PINECONE_API_KEY\"))\n",
    "pc.create_index(\n",
    "    name=\"rag\", dimension=1536, metric=\"cosine\", spec=ServerlessSpec(cloud=\"aws\", region=\"us-east-1\")\n",
    ")"
   ]
  },
  {
   "cell_type": "code",
   "execution_count": 52,
   "metadata": {},
   "outputs": [
    {
     "data": {
      "text/plain": [
       "[{'professor': 'Dr. Emily Johnson',\n",
       "  'subject': 'Biology',\n",
       "  'stars': 4,\n",
       "  'review': \"Dr. Johnson's lectures are engaging and well-structured. She's always willing to help during office hours.\"},\n",
       " {'professor': 'Prof. Michael Lee',\n",
       "  'subject': 'Computer Science',\n",
       "  'stars': 5,\n",
       "  'review': 'Brilliant professor! Makes complex topics easy to understand. His coding examples are particularly helpful.'},\n",
       " {'professor': 'Dr. Sarah Martinez',\n",
       "  'subject': 'Psychology',\n",
       "  'stars': 3,\n",
       "  'review': 'Knowledgeable, but sometimes goes off-topic. Assignments can be unclear at times.'},\n",
       " {'professor': 'Prof. David Wilson',\n",
       "  'subject': 'Mathematics',\n",
       "  'stars': 4,\n",
       "  'review': 'Challenging course, but Prof. Wilson is patient and explains concepts thoroughly.'},\n",
       " {'professor': 'Dr. Lisa Chen',\n",
       "  'subject': 'Chemistry',\n",
       "  'stars': 5,\n",
       "  'review': \"Exceptional teacher! Her lab demonstrations are amazing and she's always prepared for class.\"},\n",
       " {'professor': 'Prof. Robert Brown',\n",
       "  'subject': 'History',\n",
       "  'stars': 2,\n",
       "  'review': \"Lectures are dry and monotonous. Doesn't engage well with students' questions.\"},\n",
       " {'professor': 'Dr. Amanda Taylor',\n",
       "  'subject': 'English Literature',\n",
       "  'stars': 4,\n",
       "  'review': 'Passionate about the subject. Encourages critical thinking and class discussions.'},\n",
       " {'professor': 'Prof. James Anderson',\n",
       "  'subject': 'Physics',\n",
       "  'stars': 3,\n",
       "  'review': 'Knowledgeable but can be intimidating. Exams are much harder than homework.'},\n",
       " {'professor': 'Dr. Maria Garcia',\n",
       "  'subject': 'Sociology',\n",
       "  'stars': 5,\n",
       "  'review': 'Inspiring professor! Her real-world examples make the course material relevant and interesting.'},\n",
       " {'professor': 'Prof. Thomas Wright',\n",
       "  'subject': 'Economics',\n",
       "  'stars': 4,\n",
       "  'review': 'Clear explanations of complex economic theories. Assigns interesting projects.'}]"
      ]
     },
     "execution_count": 52,
     "metadata": {},
     "output_type": "execute_result"
    }
   ],
   "source": [
    "import json\n",
    "data = json.load(open(\"reviews.json\"))\n",
    "data['reviews']"
   ]
  },
  {
   "cell_type": "code",
   "execution_count": null,
   "metadata": {},
   "outputs": [],
   "source": [
    "processed_data = []\n",
    "client = OpenAI()\n",
    "\n",
    "for review in data['reviews']:\n",
    "    response = client.embeddings.create(\n",
    "        input=review['review'],\n",
    "        model=\"text-embedding-3-small\",\n",
    "    )\n",
    "    embedding = response.data[0].embedding\n",
    "    processed_data.append({\n",
    "        \"values\": embedding,\n",
    "        \"id\": review[\"professor\"],\n",
    "        \"metadata\": {\n",
    "            \"review\": review[\"review\"],\n",
    "            \"subject\": review[\"subject\"],\n",
    "            \"stars\": review[\"stars\"]\n",
    "        }\n",
    "    })"
   ]
  },
  {
   "cell_type": "code",
   "execution_count": 44,
   "metadata": {},
   "outputs": [
    {
     "data": {
      "text/plain": [
       "{'values': [0.5, 0.7, 0.3, 0.2, 0.1, 0.4, 0.6, 0.8, 0.9],\n",
       " 'id': 'Dr. Emily Johnson',\n",
       " 'metadata': {'review': \"Dr. Johnson's lectures are engaging and well-structured. She's always willing to help during office hours.\",\n",
       "  'subject': 'Biology',\n",
       "  'stars': 4}}"
      ]
     },
     "execution_count": 44,
     "metadata": {},
     "output_type": "execute_result"
    }
   ],
   "source": [
    "processed_data[0]"
   ]
  },
  {
   "cell_type": "code",
   "execution_count": null,
   "metadata": {},
   "outputs": [],
   "source": [
    "index = pc.Index('rag')\n",
    "index.upsert(\n",
    "    vectors=processed_data,\n",
    "    namespace=\"ns1\"\n",
    ")"
   ]
  },
  {
   "cell_type": "code",
   "execution_count": null,
   "metadata": {},
   "outputs": [],
   "source": [
    "index.describe_index_stats()"
   ]
  }
 ],
 "metadata": {
  "kernelspec": {
   "display_name": "rag",
   "language": "python",
   "name": "python3"
  },
  "language_info": {
   "codemirror_mode": {
    "name": "ipython",
    "version": 3
   },
   "file_extension": ".py",
   "mimetype": "text/x-python",
   "name": "python",
   "nbconvert_exporter": "python",
   "pygments_lexer": "ipython3",
   "version": "3.12.4"
  }
 },
 "nbformat": 4,
 "nbformat_minor": 2
}
