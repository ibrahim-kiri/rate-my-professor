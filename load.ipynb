{
 "cells": [
  {
   "cell_type": "code",
   "execution_count": 1,
   "metadata": {},
   "outputs": [
    {
     "name": "stderr",
     "output_type": "stream",
     "text": [
      "c:\\Users\\th3g3nt4lm4n\\miniconda3\\envs\\rag\\Lib\\site-packages\\pinecone\\data\\index.py:1: TqdmWarning: IProgress not found. Please update jupyter and ipywidgets. See https://ipywidgets.readthedocs.io/en/stable/user_install.html\n",
      "  from tqdm.autonotebook import tqdm\n"
     ]
    }
   ],
   "source": [
    "import json\n",
    "import numpy as np\n",
    "from sklearn.feature_extraction.text import TfidfVectorizer\n",
    "from pinecone import Pinecone, ServerlessSpec\n",
    "import os"
   ]
  },
  {
   "cell_type": "code",
   "execution_count": 2,
   "metadata": {},
   "outputs": [
    {
     "data": {
      "text/plain": [
       "<function dotenv.main.load_dotenv(dotenv_path: Union[str, ForwardRef('os.PathLike[str]'), NoneType] = None, stream: Optional[IO[str]] = None, verbose: bool = False, override: bool = False, interpolate: bool = True, encoding: Optional[str] = 'utf-8') -> bool>"
      ]
     },
     "execution_count": 2,
     "metadata": {},
     "output_type": "execute_result"
    }
   ],
   "source": [
    "#Load environment variables\n",
    "from dotenv import load_dotenv\n",
    "load_dotenv"
   ]
  },
  {
   "cell_type": "code",
   "execution_count": 3,
   "metadata": {},
   "outputs": [],
   "source": [
    "#Load the reviews data from the JSON file\n",
    "with open(\"reviews.json\", \"r\") as f:\n",
    "    data = json.load(f)\n",
    "\n",
    "#Extract the reviews\n",
    "reviews = [review[\"review\"] for review in data[\"reviews\"]]"
   ]
  },
  {
   "cell_type": "code",
   "execution_count": 5,
   "metadata": {},
   "outputs": [
    {
     "name": "stdout",
     "output_type": "stream",
     "text": [
      "Generated 10 embeddings.\n",
      "Each embedding has 93 dimensions.\n"
     ]
    }
   ],
   "source": [
    "#Create a simple embedding using TF-IDF\n",
    "vectorizer = TfidfVectorizer(max_features=93)\n",
    "embeddings = vectorizer.fit_transform(reviews).toarray()\n",
    "\n",
    "print(f\"Generated {len(embeddings)} embeddings.\")\n",
    "print(f\"Each embedding has {embeddings.shape[1]} dimensions.\")\n"
   ]
  },
  {
   "cell_type": "code",
   "execution_count": 6,
   "metadata": {},
   "outputs": [],
   "source": [
    "#Initialize Pinecone\n",
    "pc = Pinecone(api_key=os.getenv(\"PINECONE_API_KEY\"))"
   ]
  },
  {
   "cell_type": "code",
   "execution_count": 7,
   "metadata": {},
   "outputs": [],
   "source": [
    "#Create or connect to an index\n",
    "index_name = \"rag\"\n",
    "if index_name not in pc.list_indexes():\n",
    "    pc.create_index(\n",
    "        name=index_name,\n",
    "        dimension=embeddings.shape[1],\n",
    "        metric=\"cosine\",\n",
    "        spec=ServerlessSpec(\n",
    "            cloud=\"aws\",\n",
    "            region=\"us-east-1\"\n",
    "        )\n",
    "    )"
   ]
  },
  {
   "cell_type": "code",
   "execution_count": 8,
   "metadata": {},
   "outputs": [],
   "source": [
    "#Connect to the index\n",
    "index = pc.Index(index_name)"
   ]
  },
  {
   "cell_type": "code",
   "execution_count": 9,
   "metadata": {},
   "outputs": [],
   "source": [
    "#Prepare data for upsert\n",
    "vectors_to_upsert = []\n",
    "for i, (review, embedding) in enumerate(zip(data[\"reviews\"], embeddings)):\n",
    "    vectors_to_upsert.append({\n",
    "        \"id\": str(i),\n",
    "        \"values\": embedding.tolist(),\n",
    "        \"metadata\": {\n",
    "            \"professor\": review[\"professor\"],\n",
    "            \"subject\": review[\"subject\"],\n",
    "            \"stars\": review[\"stars\"],\n",
    "            \"review\": review[\"review\"],\n",
    "        }\n",
    "    })"
   ]
  },
  {
   "cell_type": "code",
   "execution_count": 10,
   "metadata": {},
   "outputs": [
    {
     "name": "stdout",
     "output_type": "stream",
     "text": [
      "Upserted 10 vectors to pinecone index 'rag'\n"
     ]
    }
   ],
   "source": [
    "#Upsert data in batches\n",
    "batch_size = 100\n",
    "for i in range(0, len(vectors_to_upsert), batch_size):\n",
    "    batch = vectors_to_upsert[i:i+batch_size]\n",
    "    index.upsert(vectors=batch)\n",
    "\n",
    "print(f\"Upserted {len(vectors_to_upsert)} vectors to pinecone index '{index_name}'\")"
   ]
  },
  {
   "cell_type": "code",
   "execution_count": 11,
   "metadata": {},
   "outputs": [],
   "source": [
    "#Example query\n",
    "query = \"Engaging professor\"\n",
    "query_embedding = vectorizer.transform([query]).toarray()[0]"
   ]
  },
  {
   "cell_type": "code",
   "execution_count": 12,
   "metadata": {},
   "outputs": [
    {
     "name": "stdout",
     "output_type": "stream",
     "text": [
      "\n",
      "Search Results:\n",
      "Score: 0.2093\n",
      "Professor: Dr. Emily Johnson\n",
      "Subject: Biology\n",
      "Stars: 4.0\n",
      "Review: Dr. Johnson's lectures are engaging and well-structured. She's always willing to help during office hours.\n",
      "\n",
      "Score: 0.1689\n",
      "Professor: Dr. Maria Garcia\n",
      "Subject: Sociology\n",
      "Stars: 5.0\n",
      "Review: Inspiring professor! Her real-world examples make the course material relevant and interesting.\n",
      "\n",
      "Score: 0.1574\n",
      "Professor: Prof. Michael Lee\n",
      "Subject: Computer Science\n",
      "Stars: 5.0\n",
      "Review: Brilliant professor! Makes complex topics easy to understand. His coding examples are particularly helpful.\n",
      "\n"
     ]
    }
   ],
   "source": [
    "#Search in Pinecone\n",
    "search_results = index.query(\n",
    "    vector=query_embedding.tolist(),\n",
    "    top_k=3,\n",
    "    include_metadata=True\n",
    ")\n",
    "\n",
    "print(\"\\nSearch Results:\")\n",
    "for result in search_results['matches']:\n",
    "    print(f\"Score: {result['score']:.4f}\")\n",
    "    print(f\"Professor: {result['metadata']['professor']}\")\n",
    "    print(f\"Subject: {result['metadata']['subject']}\")\n",
    "    print(f\"Stars: {result['metadata']['stars']}\")\n",
    "    print(f\"Review: {result['metadata']['review']}\")\n",
    "    print()"
   ]
  }
 ],
 "metadata": {
  "kernelspec": {
   "display_name": "rag",
   "language": "python",
   "name": "python3"
  },
  "language_info": {
   "codemirror_mode": {
    "name": "ipython",
    "version": 3
   },
   "file_extension": ".py",
   "mimetype": "text/x-python",
   "name": "python",
   "nbconvert_exporter": "python",
   "pygments_lexer": "ipython3",
   "version": "3.12.4"
  }
 },
 "nbformat": 4,
 "nbformat_minor": 2
}
